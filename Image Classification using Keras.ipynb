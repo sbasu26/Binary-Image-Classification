{
 "cells": [
  {
   "cell_type": "code",
   "execution_count": 3,
   "metadata": {},
   "outputs": [],
   "source": [
    "#Building the CNN\n",
    "\n",
    "# Importing the Keras libraries and packages\n",
    "from keras.models import Sequential\n",
    "from keras.layers import Conv2D\n",
    "from keras.layers import MaxPooling2D\n",
    "from keras.layers import Flatten\n",
    "from keras.layers import Dense"
   ]
  },
  {
   "cell_type": "code",
   "execution_count": 4,
   "metadata": {},
   "outputs": [],
   "source": [
    "# Initialising the CNN\n",
    "classifier = Sequential()"
   ]
  },
  {
   "cell_type": "code",
   "execution_count": 5,
   "metadata": {},
   "outputs": [],
   "source": [
    "# Step 1 - Convolution\n",
    "classifier.add(Conv2D(32, (3, 3), input_shape = (64, 64, 3), activation = 'relu'))"
   ]
  },
  {
   "cell_type": "code",
   "execution_count": 6,
   "metadata": {},
   "outputs": [],
   "source": [
    "# Step 2 - Pooling\n",
    "classifier.add(MaxPooling2D(pool_size = (2, 2)))"
   ]
  },
  {
   "cell_type": "code",
   "execution_count": 7,
   "metadata": {},
   "outputs": [],
   "source": [
    "# Adding a second convolutional layer\n",
    "classifier.add(Conv2D(32, (3, 3), activation = 'relu'))\n",
    "classifier.add(MaxPooling2D(pool_size = (2, 2)))"
   ]
  },
  {
   "cell_type": "code",
   "execution_count": 8,
   "metadata": {},
   "outputs": [],
   "source": [
    "# Step 3 - Flattening\n",
    "classifier.add(Flatten())"
   ]
  },
  {
   "cell_type": "code",
   "execution_count": 9,
   "metadata": {},
   "outputs": [],
   "source": [
    "# Step 4 - Full connection\n",
    "classifier.add(Dense(units = 128, activation = 'relu'))\n",
    "classifier.add(Dense(units = 1, activation = 'sigmoid'))"
   ]
  },
  {
   "cell_type": "code",
   "execution_count": 10,
   "metadata": {},
   "outputs": [],
   "source": [
    "# Compiling the CNN\n",
    "classifier.compile(optimizer = 'adam', loss = 'binary_crossentropy', metrics = ['accuracy'])"
   ]
  },
  {
   "cell_type": "code",
   "execution_count": 11,
   "metadata": {},
   "outputs": [],
   "source": [
    "# Part 2 - Fitting the CNN to the images\n",
    "\n",
    "from keras.preprocessing.image import ImageDataGenerator\n",
    "\n",
    "train_datagen = ImageDataGenerator(rescale = 1./255,\n",
    "                                   shear_range = 0.2,\n",
    "                                   zoom_range = 0.2,\n",
    "                                   horizontal_flip = True)"
   ]
  },
  {
   "cell_type": "code",
   "execution_count": 12,
   "metadata": {},
   "outputs": [],
   "source": [
    "test_datagen = ImageDataGenerator(rescale = 1./255)"
   ]
  },
  {
   "cell_type": "code",
   "execution_count": 13,
   "metadata": {},
   "outputs": [
    {
     "name": "stdout",
     "output_type": "stream",
     "text": [
      "Found 8000 images belonging to 2 classes.\n"
     ]
    }
   ],
   "source": [
    "training_set = train_datagen.flow_from_directory('dataset/training_set',\n",
    "                                                 target_size = (64, 64),\n",
    "                                                 batch_size = 32,\n",
    "                                                 class_mode = 'binary')"
   ]
  },
  {
   "cell_type": "code",
   "execution_count": 14,
   "metadata": {},
   "outputs": [
    {
     "name": "stdout",
     "output_type": "stream",
     "text": [
      "Found 2000 images belonging to 2 classes.\n"
     ]
    }
   ],
   "source": [
    "test_set = test_datagen.flow_from_directory('dataset/test_set',\n",
    "                                            target_size = (64, 64),\n",
    "                                            batch_size = 32,\n",
    "                                            class_mode = 'binary')"
   ]
  },
  {
   "cell_type": "code",
   "execution_count": 15,
   "metadata": {},
   "outputs": [
    {
     "name": "stdout",
     "output_type": "stream",
     "text": [
      "Epoch 1/25\n",
      "8000/8000 [==============================] - 4849s 606ms/step - loss: 0.3720 - acc: 0.8236 - val_loss: 0.5852 - val_acc: 0.7986\n",
      "Epoch 2/25\n",
      "8000/8000 [==============================] - 2813s 352ms/step - loss: 0.1214 - acc: 0.9536 - val_loss: 0.8142 - val_acc: 0.8076\n",
      "Epoch 3/25\n",
      "8000/8000 [==============================] - 2365s 296ms/step - loss: 0.0604 - acc: 0.9785 - val_loss: 1.1437 - val_acc: 0.8042\n",
      "Epoch 4/25\n",
      "8000/8000 [==============================] - 1724s 216ms/step - loss: 0.0406 - acc: 0.9861 - val_loss: 1.1165 - val_acc: 0.7930\n",
      "Epoch 5/25\n",
      "8000/8000 [==============================] - 3463s 433ms/step - loss: 0.0339 - acc: 0.9884 - val_loss: 1.2749 - val_acc: 0.8041\n",
      "Epoch 6/25\n",
      "8000/8000 [==============================] - 5791s 724ms/step - loss: 0.0271 - acc: 0.9906 - val_loss: 1.3149 - val_acc: 0.8013\n",
      "Epoch 7/25\n",
      "8000/8000 [==============================] - 4153s 519ms/step - loss: 0.0247 - acc: 0.9918 - val_loss: 1.4592 - val_acc: 0.7942\n",
      "Epoch 8/25\n",
      "8000/8000 [==============================] - 4192s 524ms/step - loss: 0.0213 - acc: 0.9929 - val_loss: 1.3986 - val_acc: 0.8018\n",
      "Epoch 9/25\n",
      "8000/8000 [==============================] - 3149s 394ms/step - loss: 0.0191 - acc: 0.9937 - val_loss: 1.4604 - val_acc: 0.8014\n",
      "Epoch 10/25\n",
      "8000/8000 [==============================] - 2615s 327ms/step - loss: 0.0179 - acc: 0.9942 - val_loss: 1.5342 - val_acc: 0.7980\n",
      "Epoch 11/25\n",
      "8000/8000 [==============================] - 5388s 674ms/step - loss: 0.0150 - acc: 0.9950 - val_loss: 1.6558 - val_acc: 0.7996\n",
      "Epoch 12/25\n",
      "8000/8000 [==============================] - 7286s 911ms/step - loss: 0.0149 - acc: 0.9952 - val_loss: 1.4750 - val_acc: 0.8005\n",
      "Epoch 13/25\n",
      "8000/8000 [==============================] - 6341s 793ms/step - loss: 0.0138 - acc: 0.9956 - val_loss: 1.5043 - val_acc: 0.7973\n",
      "Epoch 14/25\n",
      "8000/8000 [==============================] - 18940s 2s/step - loss: 0.0132 - acc: 0.9958 - val_loss: 1.5674 - val_acc: 0.8030\n",
      "Epoch 15/25\n",
      "8000/8000 [==============================] - 11651s 1s/step - loss: 0.0118 - acc: 0.9961 - val_loss: 1.6391 - val_acc: 0.7908\n",
      "Epoch 16/25\n",
      "8000/8000 [==============================] - 4996s 624ms/step - loss: 0.0116 - acc: 0.9964 - val_loss: 1.5208 - val_acc: 0.8089\n",
      "Epoch 17/25\n",
      "8000/8000 [==============================] - 25132s 3s/step - loss: 0.0104 - acc: 0.9968 - val_loss: 1.7150 - val_acc: 0.7969\n",
      "Epoch 18/25\n",
      "8000/8000 [==============================] - 1934s 242ms/step - loss: 0.0100 - acc: 0.9968 - val_loss: 1.6735 - val_acc: 0.8067\n",
      "Epoch 19/25\n",
      "8000/8000 [==============================] - 5596s 700ms/step - loss: 0.0106 - acc: 0.9967 - val_loss: 1.6571 - val_acc: 0.8085\n",
      "Epoch 20/25\n",
      "8000/8000 [==============================] - 1877s 235ms/step - loss: 0.0094 - acc: 0.9971 - val_loss: 1.5766 - val_acc: 0.8094\n",
      "Epoch 21/25\n",
      "8000/8000 [==============================] - 1934s 242ms/step - loss: 0.0085 - acc: 0.9974 - val_loss: 1.6854 - val_acc: 0.8073\n",
      "Epoch 22/25\n",
      "8000/8000 [==============================] - 2030s 254ms/step - loss: 0.0092 - acc: 0.9972 - val_loss: 1.7142 - val_acc: 0.8054\n",
      "Epoch 23/25\n",
      "8000/8000 [==============================] - 1971s 246ms/step - loss: 0.0080 - acc: 0.9975 - val_loss: 1.6430 - val_acc: 0.8050\n",
      "Epoch 24/25\n",
      "8000/8000 [==============================] - 1973s 247ms/step - loss: 0.0082 - acc: 0.9976 - val_loss: 1.6126 - val_acc: 0.8054\n",
      "Epoch 25/25\n",
      "8000/8000 [==============================] - 1975s 247ms/step - loss: 0.0088 - acc: 0.9974 - val_loss: 1.5479 - val_acc: 0.8134\n"
     ]
    },
    {
     "data": {
      "text/plain": [
       "<keras.callbacks.History at 0x212c27725f8>"
      ]
     },
     "execution_count": 15,
     "metadata": {},
     "output_type": "execute_result"
    }
   ],
   "source": [
    "classifier.fit_generator(training_set,\n",
    "                         steps_per_epoch = 8000,\n",
    "                         epochs = 25,\n",
    "                         validation_data = test_set,\n",
    "                         validation_steps = 2000)"
   ]
  },
  {
   "cell_type": "code",
   "execution_count": 16,
   "metadata": {
    "scrolled": true
   },
   "outputs": [],
   "source": [
    "import numpy as np\n",
    "from keras.preprocessing import image"
   ]
  },
  {
   "cell_type": "code",
   "execution_count": 17,
   "metadata": {},
   "outputs": [],
   "source": [
    "test_image = image.load_img('dataset/single_prediction/cat_or_dog_2.jpg', target_size = (64, 64))\n",
    "test_image = image.img_to_array(test_image)\n",
    "test_image = np.expand_dims(test_image, axis = 0)\n",
    "result = classifier.predict(test_image)\n",
    "training_set.class_indices\n",
    "if result[0][0] == 1:\n",
    "    prediction = 'dog'\n",
    "else:\n",
    "    prediction = 'cat'"
   ]
  },
  {
   "cell_type": "code",
   "execution_count": 18,
   "metadata": {},
   "outputs": [
    {
     "data": {
      "text/plain": [
       "'cat'"
      ]
     },
     "execution_count": 18,
     "metadata": {},
     "output_type": "execute_result"
    }
   ],
   "source": [
    "prediction"
   ]
  },
  {
   "cell_type": "code",
   "execution_count": 19,
   "metadata": {},
   "outputs": [],
   "source": [
    "test_image = image.load_img('dataset/single_prediction/cat_or_dog_1.jpg', target_size = (64, 64))\n",
    "test_image = image.img_to_array(test_image)\n",
    "test_image = np.expand_dims(test_image, axis = 0)\n",
    "result = classifier.predict(test_image)\n",
    "training_set.class_indices\n",
    "if result[0][0] == 1:\n",
    "    prediction = 'dog'\n",
    "else:\n",
    "    prediction = 'cat'"
   ]
  },
  {
   "cell_type": "code",
   "execution_count": 20,
   "metadata": {},
   "outputs": [
    {
     "data": {
      "text/plain": [
       "'dog'"
      ]
     },
     "execution_count": 20,
     "metadata": {},
     "output_type": "execute_result"
    }
   ],
   "source": [
    "prediction"
   ]
  },
  {
   "cell_type": "code",
   "execution_count": null,
   "metadata": {},
   "outputs": [],
   "source": []
  }
 ],
 "metadata": {
  "kernelspec": {
   "display_name": "Python 3",
   "language": "python",
   "name": "python3"
  },
  "language_info": {
   "codemirror_mode": {
    "name": "ipython",
    "version": 3
   },
   "file_extension": ".py",
   "mimetype": "text/x-python",
   "name": "python",
   "nbconvert_exporter": "python",
   "pygments_lexer": "ipython3",
   "version": "3.6.6"
  }
 },
 "nbformat": 4,
 "nbformat_minor": 2
}
