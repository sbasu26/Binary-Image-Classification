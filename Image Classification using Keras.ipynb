{
 "cells": [
  {
   "cell_type": "code",
   "execution_count": 1,
   "metadata": {},
   "outputs": [
    {
     "name": "stderr",
     "output_type": "stream",
     "text": [
      "Using TensorFlow backend.\n"
     ]
    }
   ],
   "source": [
    "#Building the CNN\n",
    "\n",
    "# Importing the Keras libraries and packages\n",
    "from keras.models import Sequential\n",
    "from keras.layers import Conv2D\n",
    "from keras.layers import MaxPooling2D\n",
    "from keras.layers import Flatten\n",
    "from keras.layers import Dense"
   ]
  },
  {
   "cell_type": "code",
   "execution_count": 2,
   "metadata": {},
   "outputs": [],
   "source": [
    "# Initialising the CNN\n",
    "classifier = Sequential()"
   ]
  },
  {
   "cell_type": "code",
   "execution_count": 3,
   "metadata": {},
   "outputs": [],
   "source": [
    "# Step 1 - Convolution\n",
    "classifier.add(Conv2D(32, (3, 3), input_shape = (64, 64, 3), activation = 'relu'))"
   ]
  },
  {
   "cell_type": "code",
   "execution_count": 4,
   "metadata": {},
   "outputs": [],
   "source": [
    "# Step 2 - Pooling\n",
    "classifier.add(MaxPooling2D(pool_size = (2, 2)))"
   ]
  },
  {
   "cell_type": "code",
   "execution_count": 5,
   "metadata": {},
   "outputs": [],
   "source": [
    "# Adding a second convolutional layer\n",
    "classifier.add(Conv2D(32, (3, 3), activation = 'relu'))\n",
    "classifier.add(MaxPooling2D(pool_size = (2, 2)))"
   ]
  },
  {
   "cell_type": "code",
   "execution_count": 6,
   "metadata": {},
   "outputs": [],
   "source": [
    "# Step 3 - Flattening\n",
    "classifier.add(Flatten())"
   ]
  },
  {
   "cell_type": "code",
   "execution_count": 7,
   "metadata": {},
   "outputs": [],
   "source": [
    "# Step 4 - Full connection\n",
    "classifier.add(Dense(units = 128, activation = 'relu'))\n",
    "classifier.add(Dense(units = 1, activation = 'sigmoid'))"
   ]
  },
  {
   "cell_type": "code",
   "execution_count": 8,
   "metadata": {},
   "outputs": [],
   "source": [
    "# Compiling the CNN\n",
    "classifier.compile(optimizer = 'adam', loss = 'binary_crossentropy', metrics = ['accuracy'])"
   ]
  },
  {
   "cell_type": "code",
   "execution_count": 9,
   "metadata": {},
   "outputs": [],
   "source": [
    "# Part 2 - Fitting the CNN to the images\n",
    "\n",
    "from keras.preprocessing.image import ImageDataGenerator\n",
    "\n",
    "train_datagen = ImageDataGenerator(rescale = 1./255,\n",
    "                                   shear_range = 0.2,\n",
    "                                   zoom_range = 0.2,\n",
    "                                   horizontal_flip = True)"
   ]
  },
  {
   "cell_type": "code",
   "execution_count": 10,
   "metadata": {},
   "outputs": [],
   "source": [
    "test_datagen = ImageDataGenerator(rescale = 1./255)"
   ]
  },
  {
   "cell_type": "code",
   "execution_count": 11,
   "metadata": {},
   "outputs": [
    {
     "name": "stdout",
     "output_type": "stream",
     "text": [
      "Found 8000 images belonging to 2 classes.\n"
     ]
    }
   ],
   "source": [
    "training_set = train_datagen.flow_from_directory('dataset/training_set',\n",
    "                                                 target_size = (64, 64),\n",
    "                                                 batch_size = 32,\n",
    "                                                 class_mode = 'binary')"
   ]
  },
  {
   "cell_type": "code",
   "execution_count": 12,
   "metadata": {},
   "outputs": [
    {
     "name": "stdout",
     "output_type": "stream",
     "text": [
      "Found 2000 images belonging to 2 classes.\n"
     ]
    }
   ],
   "source": [
    "test_set = test_datagen.flow_from_directory('dataset/test_set',\n",
    "                                            target_size = (64, 64),\n",
    "                                            batch_size = 32,\n",
    "                                            class_mode = 'binary')"
   ]
  },
  {
   "cell_type": "code",
   "execution_count": null,
   "metadata": {},
   "outputs": [
    {
     "name": "stdout",
     "output_type": "stream",
     "text": [
      "Epoch 1/25\n",
      "8000/8000 [==============================] - 2997s 375ms/step - loss: 0.4534 - acc: 0.7782 - val_loss: 0.4184 - val_acc: 0.8124\n",
      "Epoch 2/25\n",
      "8000/8000 [==============================] - 1991s 249ms/step - loss: 0.2730 - acc: 0.8827 - val_loss: 0.5471 - val_acc: 0.7845\n",
      "Epoch 3/25\n",
      "8000/8000 [==============================] - 2206s 276ms/step - loss: 0.1762 - acc: 0.9280 - val_loss: 0.6517 - val_acc: 0.8046\n",
      "Epoch 4/25\n",
      "8000/8000 [==============================] - 4064s 508ms/step - loss: 0.1211 - acc: 0.9521 - val_loss: 0.7953 - val_acc: 0.7901\n",
      "Epoch 5/25\n",
      "8000/8000 [==============================] - 18585s 2s/step - loss: 0.0883 - acc: 0.9668 - val_loss: 0.8984 - val_acc: 0.7916\n",
      "Epoch 6/25\n",
      "8000/8000 [==============================] - 20839s 3s/step - loss: 0.0695 - acc: 0.9738 - val_loss: 0.9612 - val_acc: 0.7968\n",
      "Epoch 7/25\n",
      "8000/8000 [==============================] - 2111s 264ms/step - loss: 0.0605 - acc: 0.9777 - val_loss: 0.9465 - val_acc: 0.8160\n",
      "Epoch 8/25\n",
      "8000/8000 [==============================] - 1979s 247ms/step - loss: 0.0522 - acc: 0.9812 - val_loss: 1.0956 - val_acc: 0.8009\n",
      "Epoch 9/25\n",
      "8000/8000 [==============================] - 2064s 258ms/step - loss: 0.0463 - acc: 0.9835 - val_loss: 1.0961 - val_acc: 0.8017\n",
      "Epoch 10/25\n",
      "8000/8000 [==============================] - 1922s 240ms/step - loss: 0.0431 - acc: 0.9848 - val_loss: 1.1588 - val_acc: 0.8063\n",
      "Epoch 11/25\n",
      "8000/8000 [==============================] - 24759s 3s/step - loss: 0.0390 - acc: 0.9862 - val_loss: 1.3479 - val_acc: 0.7865\n",
      "Epoch 12/25\n",
      "8000/8000 [==============================] - 79826s 10s/step - loss: 0.0350 - acc: 0.9875 - val_loss: 1.2530 - val_acc: 0.8071\n",
      "Epoch 13/25\n",
      "8000/8000 [==============================] - 14990s 2s/step - loss: 0.0330 - acc: 0.9882 - val_loss: 1.2712 - val_acc: 0.7978\n",
      "Epoch 14/25\n",
      "8000/8000 [==============================] - 2788s 348ms/step - loss: 0.0302 - acc: 0.9895 - val_loss: 1.2973 - val_acc: 0.7987\n",
      "Epoch 15/25\n",
      "8000/8000 [==============================] - 44850s 6s/step - loss: 0.0293 - acc: 0.9897 - val_loss: 1.3130 - val_acc: 0.7969\n",
      "Epoch 16/25\n",
      "8000/8000 [==============================] - 2443s 305ms/step - loss: 0.0268 - acc: 0.9906 - val_loss: 1.2884 - val_acc: 0.8052\n",
      "Epoch 17/25\n",
      "8000/8000 [==============================] - 2158s 270ms/step - loss: 0.0252 - acc: 0.9911 - val_loss: 1.2574 - val_acc: 0.8090\n",
      "Epoch 18/25\n",
      "8000/8000 [==============================] - 36631s 5s/step - loss: 0.0241 - acc: 0.9916 - val_loss: 1.3428 - val_acc: 0.8074\n",
      "Epoch 19/25\n",
      "8000/8000 [==============================] - 45364s 6s/step - loss: 0.0229 - acc: 0.9921 - val_loss: 1.4619 - val_acc: 0.7850\n",
      "Epoch 20/25\n",
      "8000/8000 [==============================] - 2497s 312ms/step - loss: 0.0224 - acc: 0.9922 - val_loss: 1.3973 - val_acc: 0.8029\n",
      "Epoch 21/25\n",
      "8000/8000 [==============================] - 2000s 250ms/step - loss: 0.0212 - acc: 0.9927 - val_loss: 1.3673 - val_acc: 0.7983\n",
      "Epoch 22/25\n",
      "8000/8000 [==============================] - 10873s 1s/step - loss: 0.0200 - acc: 0.9932 - val_loss: 1.5673 - val_acc: 0.7876\n",
      "Epoch 23/25\n",
      "6631/8000 [=======================>......] - ETA: 1:54:51 - loss: 0.0193 - acc: 0.9934"
     ]
    }
   ],
   "source": [
    "classifier.fit_generator(training_set,\n",
    "                         steps_per_epoch = 8000,\n",
    "                         epochs = 25,\n",
    "                         validation_data = test_set,\n",
    "                         validation_steps = 2000)"
   ]
  },
  {
   "cell_type": "code",
   "execution_count": null,
   "metadata": {},
   "outputs": [],
   "source": []
  }
 ],
 "metadata": {
  "kernelspec": {
   "display_name": "Python 3",
   "language": "python",
   "name": "python3"
  },
  "language_info": {
   "codemirror_mode": {
    "name": "ipython",
    "version": 3
   },
   "file_extension": ".py",
   "mimetype": "text/x-python",
   "name": "python",
   "nbconvert_exporter": "python",
   "pygments_lexer": "ipython3",
   "version": "3.6.6"
  }
 },
 "nbformat": 4,
 "nbformat_minor": 2
}
